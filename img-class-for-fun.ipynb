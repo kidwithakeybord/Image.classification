{
 "cells": [
  {
   "cell_type": "code",
   "execution_count": 1,
   "metadata": {
    "_cell_guid": "b1076dfc-b9ad-4769-8c92-a6c4dae69d19",
    "_uuid": "8f2839f25d086af736a60e9eeb907d3b93b6e0e5"
   },
   "outputs": [],
   "source": [
    "# This Python 3 environment comes with many helpful analytics libraries installed\n",
    "# It is defined by the kaggle/python docker image: https://github.com/kaggle/docker-python\n",
    "# For example, here's several helpful packages to load in \n",
    "\n",
    "import numpy as np # linear algebra\n",
    "import pandas as pd # data processing, CSV file I/O (e.g. pd.read_csv)\n",
    "\n",
    "# Input data files are available in the \"../input/\" directory.\n",
    "# For example, running this (by clicking run or pressing Shift+Enter) will list all files under the input directory\n",
    "\n",
    "import os\n",
    "#for dirname, _, filenames in os.walk('/kaggle/input'):\n",
    "#    for filename in filenames:\n",
    "#        print(os.path.join(dirname, filename))\n",
    "\n",
    "# Any results you write to the current directory are saved as output."
   ]
  },
  {
   "cell_type": "code",
   "execution_count": 2,
   "metadata": {
    "_cell_guid": "79c7e3d0-c299-4dcb-8224-4455121ee9b0",
    "_uuid": "d629ff2d2480ee46fbb7e2d37f6b5fab8052498a"
   },
   "outputs": [],
   "source": [
    "PATH = (\"/kaggle/input/just-helping-a-friend/Image_2/Input/Dataset\")\n",
    "#Test_Path = (\"/kaggle/input/face-recognition/test/test\")\n",
    "Test_path = (\"/kaggle/input/just-helping-a-friend/Image_2/Input/Dataset/test\")"
   ]
  },
  {
   "cell_type": "code",
   "execution_count": 3,
   "metadata": {},
   "outputs": [
    {
     "name": "stdout",
     "output_type": "stream",
     "text": [
      "['category 4', 'category 3', 'category 2', 'category 1']\n",
      "['Test_original_6052.png_9950e35a-38c7-4388-b391-ce50bb8ea1a7.png', 'Test_original_6053.png_445dbbe1-4b09-4d56-aede-ab1695664ead.png', '1052.png', 'Test_original_C052.png_5c226e55-09ba-4fd0-bf6b-e0d2b411baa3.png', '4051.png', 'Test_original_1052.png_b95bc311-bae0-48a7-8b9f-d0eddf1ddf2b.png', 'C052.png', '6053.png', '6052.png', 'C053.png', 'Test_original_4043.png_615f9058-5c5c-4430-9f11-debd66f8a19a.png', '4052.png', 'Test_original_6053.png_62171105-bdaa-4eb5-b5e7-9b0fb7914715.png', 'Test_original_6053.png_16f2063e-9590-4ae5-b7f9-7f23c8cfa654.png', 'Test_original_1051.png_271f7fb1-f0ab-4ca7-9dae-a352fd0ed8b9.png', 'Test_original_4052.png_31cd9a66-9edc-4445-b4bc-9b0239b342e0.png', 'Test_original_4052.png_209d62b3-92ce-4e4d-8006-cf63a40088a4.png', 'Test_original_6052.png_51c87ecf-ede6-4152-960f-4d56ff913d53.png', '1051.png', 'Test_original_4043.png_fffcbc29-3aff-40c0-bdf9-2c12fa6df60b.png', '4043.png', 'Test_original_4052.png_a2ba34f8-9e8b-4b2d-ad89-612c261a9654.png', 'Test_original_C053.png_e7d20702-793e-4207-b174-a8042c05ac3d.png', 'Test_original_1052.png_22a82512-5b1f-4072-a4af-9a8af40653f0.png', 'Test_original_4051.png_b90a2ba4-87c6-41e6-ad67-0e0d2e83478c.png', '4050.png', 'Test_original_C053.png_84d8e7c9-490f-4579-b9a9-501a8ca02cfe.png', 'Test_original_6053.png_c34c8352-0830-4853-81ce-3ea5ecf82313.png', 'Test_original_4052.png_78b7cca7-2a16-4f3c-829d-e4937b5f2dc2.png', 'Test_original_6052.png_25bb57e2-b542-47c3-9abb-a1f7c7179ee6.png']\n"
     ]
    }
   ],
   "source": [
    "DATA_PATH = os.path.join(PATH, 'train')\n",
    "TEST_PATH = os.path.join(Test_path, 'New folder')\n",
    "test_dir_list=os.listdir(Test_path)\n",
    "data_dir_list = os.listdir(DATA_PATH)\n",
    "print(data_dir_list)\n",
    "print(test_dir_list)"
   ]
  },
  {
   "cell_type": "code",
   "execution_count": 4,
   "metadata": {},
   "outputs": [],
   "source": [
    "img_rows=400\n",
    "img_cols=400\n",
    "num_channel=3\n",
    "\n",
    "num_epoch = 15\n",
    "batch_size = 32\n",
    "\n",
    "img_data_list=[]\n",
    "classes_names_list=[]\n",
    "target_column=[]"
   ]
  },
  {
   "cell_type": "code",
   "execution_count": 5,
   "metadata": {},
   "outputs": [
    {
     "name": "stdout",
     "output_type": "stream",
     "text": [
      "Getting images from category 4 folder\n",
      "\n",
      "Getting images from category 3 folder\n",
      "\n",
      "Getting images from category 2 folder\n",
      "\n",
      "Getting images from category 1 folder\n",
      "\n"
     ]
    }
   ],
   "source": [
    "import cv2\n",
    "for dataset in data_dir_list:\n",
    "    classes_names_list.append(dataset)\n",
    "    print(\"Getting images from {} folder\\n\".format(dataset))\n",
    "    img_list = os.listdir(DATA_PATH +'/'+ dataset)\n",
    "    for img in img_list:\n",
    "        input_img = cv2.imread(DATA_PATH + '/' + dataset + '/' + img)\n",
    "        input_img_resize=cv2.resize(input_img,(img_rows,img_cols))\n",
    "        img_data_list.append(input_img_resize)\n",
    "        target_column.append(dataset)"
   ]
  },
  {
   "cell_type": "code",
   "execution_count": 6,
   "metadata": {},
   "outputs": [
    {
     "name": "stdout",
     "output_type": "stream",
     "text": [
      "4\n"
     ]
    }
   ],
   "source": [
    "num_classes = len(classes_names_list)\n",
    "print(num_classes)"
   ]
  },
  {
   "cell_type": "code",
   "execution_count": 7,
   "metadata": {},
   "outputs": [],
   "source": [
    "#normalizing it \n",
    "img_data = np.array(img_data_list)\n",
    "img_data = img_data.astype('float32')\n",
    "img_data /= 255"
   ]
  },
  {
   "cell_type": "code",
   "execution_count": 8,
   "metadata": {},
   "outputs": [
    {
     "name": "stdout",
     "output_type": "stream",
     "text": [
      "440\n",
      "(440, 400, 400, 3)\n"
     ]
    }
   ],
   "source": [
    "#resizing the images and the num of samples\n",
    "print(len(img_data))\n",
    "print(img_data.shape)"
   ]
  },
  {
   "cell_type": "code",
   "execution_count": 9,
   "metadata": {},
   "outputs": [
    {
     "name": "stdout",
     "output_type": "stream",
     "text": [
      "440\n",
      "(440, 400, 400, 3)\n"
     ]
    }
   ],
   "source": [
    "#resizing the images and the num of samples\n",
    "print(len(img_data))\n",
    "print(img_data.shape)"
   ]
  },
  {
   "cell_type": "code",
   "execution_count": 10,
   "metadata": {},
   "outputs": [
    {
     "data": {
      "text/plain": [
       "['category 4', 'category 3', 'category 2', 'category 1']"
      ]
     },
     "execution_count": 10,
     "metadata": {},
     "output_type": "execute_result"
    }
   ],
   "source": [
    "#what is happening?\n",
    "classes_names_list"
   ]
  },
  {
   "cell_type": "code",
   "execution_count": 11,
   "metadata": {},
   "outputs": [],
   "source": [
    "from sklearn.preprocessing import LabelEncoder\n",
    "Labelencoder = LabelEncoder()\n",
    "target_column = Labelencoder.fit_transform(target_column)"
   ]
  },
  {
   "cell_type": "code",
   "execution_count": 12,
   "metadata": {},
   "outputs": [
    {
     "data": {
      "text/plain": [
       "array([3, 3, 3, 3, 3, 3, 3, 3, 3, 3, 3, 3, 3, 3, 3, 3, 3, 3, 3, 3, 3, 3,\n",
       "       3, 3, 3, 3, 3, 3, 3, 3, 3, 3, 3, 3, 3, 3, 3, 3, 3, 3, 3, 3, 3, 3,\n",
       "       3, 3, 3, 3, 3, 3, 3, 3, 3, 3, 3, 3, 3, 3, 3, 3, 3, 3, 3, 3, 3, 3,\n",
       "       3, 3, 3, 3, 3, 3, 3, 3, 3, 3, 3, 3, 3, 3, 3, 3, 3, 3, 3, 3, 3, 3,\n",
       "       3, 3, 3, 3, 3, 3, 3, 3, 3, 3, 3, 3, 3, 3, 3, 3, 3, 3, 3, 3, 3, 3,\n",
       "       3, 3, 3, 3, 3, 3, 3, 3, 3, 2, 2, 2, 2, 2, 2, 2, 2, 2, 2, 2, 2, 2,\n",
       "       2, 2, 2, 2, 2, 2, 2, 2, 2, 2, 2, 2, 2, 2, 2, 2, 2, 2, 2, 2, 2, 2,\n",
       "       2, 2, 2, 2, 2, 2, 2, 2, 2, 2, 2, 2, 2, 2, 2, 2, 2, 2, 2, 2, 2, 2,\n",
       "       2, 2, 2, 2, 2, 2, 2, 2, 2, 2, 2, 2, 2, 2, 2, 2, 2, 2, 2, 2, 2, 2,\n",
       "       2, 2, 2, 2, 2, 2, 2, 2, 2, 2, 2, 2, 2, 2, 2, 2, 2, 2, 2, 2, 2, 2,\n",
       "       2, 2, 2, 2, 2, 2, 2, 2, 2, 2, 2, 1, 1, 1, 1, 1, 1, 1, 1, 1, 1, 1,\n",
       "       1, 1, 1, 1, 1, 1, 1, 1, 1, 1, 1, 1, 1, 1, 1, 1, 1, 1, 1, 1, 1, 1,\n",
       "       1, 1, 1, 1, 1, 1, 1, 1, 1, 1, 1, 1, 1, 1, 1, 1, 1, 1, 1, 1, 1, 1,\n",
       "       1, 1, 1, 1, 1, 1, 1, 1, 1, 1, 1, 1, 1, 1, 1, 1, 1, 1, 1, 1, 1, 1,\n",
       "       1, 1, 1, 1, 1, 1, 1, 1, 1, 1, 1, 1, 1, 1, 1, 1, 1, 1, 1, 1, 1, 1,\n",
       "       1, 1, 1, 1, 1, 1, 1, 1, 0, 0, 0, 0, 0, 0, 0, 0, 0, 0, 0, 0, 0, 0,\n",
       "       0, 0, 0, 0, 0, 0, 0, 0, 0, 0, 0, 0, 0, 0, 0, 0, 0, 0, 0, 0, 0, 0,\n",
       "       0, 0, 0, 0, 0, 0, 0, 0, 0, 0, 0, 0, 0, 0, 0, 0, 0, 0, 0, 0, 0, 0,\n",
       "       0, 0, 0, 0, 0, 0, 0, 0, 0, 0, 0, 0, 0, 0, 0, 0, 0, 0, 0, 0, 0, 0,\n",
       "       0, 0, 0, 0, 0, 0, 0, 0, 0, 0, 0, 0, 0, 0, 0, 0, 0, 0, 0, 0, 0, 0])"
      ]
     },
     "execution_count": 12,
     "metadata": {},
     "output_type": "execute_result"
    }
   ],
   "source": [
    "from collections import Counter\n",
    "#Counter(classes).values()\n",
    "classes = target_column\n",
    "    # classes = np.ones((num_of_samples,),dtype = 'int64')\n",
    "classes"
   ]
  },
  {
   "cell_type": "code",
   "execution_count": 13,
   "metadata": {},
   "outputs": [
    {
     "name": "stderr",
     "output_type": "stream",
     "text": [
      "Using TensorFlow backend.\n"
     ]
    }
   ],
   "source": [
    "from keras.utils import to_categorical\n",
    "\n",
    "classes = to_categorical(classes, num_classes)"
   ]
  },
  {
   "cell_type": "code",
   "execution_count": 14,
   "metadata": {},
   "outputs": [
    {
     "data": {
      "text/plain": [
       "(440, 4)"
      ]
     },
     "execution_count": 14,
     "metadata": {},
     "output_type": "execute_result"
    }
   ],
   "source": [
    "classes.shape"
   ]
  },
  {
   "cell_type": "code",
   "execution_count": 15,
   "metadata": {},
   "outputs": [],
   "source": [
    "from sklearn.utils import shuffle\n",
    "\n",
    "X, Y = shuffle(img_data, classes, random_state=123)"
   ]
  },
  {
   "cell_type": "code",
   "execution_count": 16,
   "metadata": {},
   "outputs": [],
   "source": [
    "from sklearn.model_selection import train_test_split\n",
    "\n",
    "X_train, X_test, y_train, y_test = train_test_split(X, Y, test_size=0.2, random_state=2)"
   ]
  },
  {
   "cell_type": "code",
   "execution_count": 17,
   "metadata": {},
   "outputs": [
    {
     "data": {
      "image/png": "[encoded data removed]",
      "text/plain": [
       "<Figure size 432x288 with 1 Axes>"
      ]
     },
     "metadata": {
      "needs_background": "light"
     },
     "output_type": "display_data"
    }
   ],
   "source": [
    "import matplotlib.pyplot as plt\n",
    "import matplotlib.image as mpimg\n",
    "import seaborn as sns\n",
    "g = plt.imshow(X_train[3][:,:,0])"
   ]
  },
  {
   "cell_type": "code",
   "execution_count": 18,
   "metadata": {},
   "outputs": [],
   "source": [
    "from keras.models import Sequential\n",
    "from keras.layers import Dense, Dropout, Flatten\n",
    "from keras.layers import Conv2D, MaxPooling2D"
   ]
  },
  {
   "cell_type": "code",
   "execution_count": 19,
   "metadata": {},
   "outputs": [
    {
     "name": "stdout",
     "output_type": "stream",
     "text": [
      "(400, 400, 3)\n"
     ]
    }
   ],
   "source": [
    "num_of_samples = img_data.shape[0]\n",
    "input_shape = img_data[0].shape\n",
    "print(input_shape)"
   ]
  },
  {
   "cell_type": "code",
   "execution_count": null,
   "metadata": {},
   "outputs": [],
   "source": []
  },
  {
   "cell_type": "code",
   "execution_count": 20,
   "metadata": {},
   "outputs": [
    {
     "name": "stdout",
     "output_type": "stream",
     "text": [
      "Model: \"sequential_1\"\n",
      "_________________________________________________________________\n",
      "Layer (type)                 Output Shape              Param #   \n",
      "=================================================================\n",
      "conv2d_1 (Conv2D)            (None, 398, 398, 16)      448       \n",
      "_________________________________________________________________\n",
      "conv2d_2 (Conv2D)            (None, 396, 396, 16)      2320      \n",
      "_________________________________________________________________\n",
      "max_pooling2d_1 (MaxPooling2 (None, 198, 198, 16)      0         \n",
      "_________________________________________________________________\n",
      "dropout_1 (Dropout)          (None, 198, 198, 16)      0         \n",
      "_________________________________________________________________\n",
      "flatten_1 (Flatten)          (None, 627264)            0         \n",
      "_________________________________________________________________\n",
      "dense_1 (Dense)              (None, 32)                20072480  \n",
      "_________________________________________________________________\n",
      "dropout_2 (Dropout)          (None, 32)                0         \n",
      "_________________________________________________________________\n",
      "dense_2 (Dense)              (None, 4)                 132       \n",
      "=================================================================\n",
      "Total params: 20,075,380\n",
      "Trainable params: 20,075,380\n",
      "Non-trainable params: 0\n",
      "_________________________________________________________________\n"
     ]
    }
   ],
   "source": [
    "model = Sequential()\n",
    "\n",
    "model.add(Conv2D(16,(3,3),activation = \"relu\", input_shape=input_shape))\n",
    "model.add(Conv2D(16,(3,3),activation = \"relu\"))\n",
    "model.add(MaxPooling2D(pool_size=(2, 2)))\n",
    "model.add(Dropout(0.2))\n",
    "\n",
    "model.add(Flatten())\n",
    "model.add(Dense(32, activation='relu'))\n",
    "model.add(Dropout(0.2))\n",
    "model.add(Dense(num_classes, activation='sigmoid'))\n",
    "model.compile(loss='binary_crossentropy', optimizer='rmsprop', metrics=[\"accuracy\"])\n",
    "model.summary()"
   ]
  },
  {
   "cell_type": "code",
   "execution_count": 21,
   "metadata": {},
   "outputs": [
    {
     "name": "stdout",
     "output_type": "stream",
     "text": [
      "Train on 352 samples, validate on 88 samples\n",
      "Epoch 1/15\n",
      "352/352 [==============================] - 6s 18ms/step - loss: 6.0769 - accuracy: 0.6953 - val_loss: 0.4345 - val_accuracy: 0.7614\n",
      "Epoch 2/15\n",
      "352/352 [==============================] - 2s 5ms/step - loss: 0.3922 - accuracy: 0.8203 - val_loss: 0.3135 - val_accuracy: 0.8722\n",
      "Epoch 3/15\n",
      "352/352 [==============================] - 2s 5ms/step - loss: 0.7873 - accuracy: 0.7834 - val_loss: 0.3729 - val_accuracy: 0.8352\n",
      "Epoch 4/15\n",
      "352/352 [==============================] - 2s 5ms/step - loss: 0.3205 - accuracy: 0.8587 - val_loss: 0.3151 - val_accuracy: 0.8864\n",
      "Epoch 5/15\n",
      "352/352 [==============================] - 2s 5ms/step - loss: 0.1633 - accuracy: 0.9268 - val_loss: 0.2212 - val_accuracy: 0.9091\n",
      "Epoch 6/15\n",
      "352/352 [==============================] - 2s 5ms/step - loss: 0.0988 - accuracy: 0.9652 - val_loss: 0.2140 - val_accuracy: 0.9006\n",
      "Epoch 7/15\n",
      "352/352 [==============================] - 2s 5ms/step - loss: 0.0616 - accuracy: 0.9801 - val_loss: 0.2466 - val_accuracy: 0.9148\n",
      "Epoch 8/15\n",
      "352/352 [==============================] - 2s 5ms/step - loss: 0.0478 - accuracy: 0.9822 - val_loss: 0.2267 - val_accuracy: 0.9091\n",
      "Epoch 9/15\n",
      "352/352 [==============================] - 2s 5ms/step - loss: 0.0754 - accuracy: 0.9744 - val_loss: 0.4014 - val_accuracy: 0.8864\n",
      "Epoch 10/15\n",
      "352/352 [==============================] - 2s 5ms/step - loss: 0.0347 - accuracy: 0.9858 - val_loss: 0.2864 - val_accuracy: 0.9205\n",
      "Epoch 11/15\n",
      "352/352 [==============================] - 2s 5ms/step - loss: 0.0216 - accuracy: 0.9922 - val_loss: 0.2697 - val_accuracy: 0.9318\n",
      "Epoch 12/15\n",
      "352/352 [==============================] - 2s 5ms/step - loss: 0.1587 - accuracy: 0.9616 - val_loss: 0.3338 - val_accuracy: 0.9233\n",
      "Epoch 13/15\n",
      "352/352 [==============================] - 2s 6ms/step - loss: 0.0181 - accuracy: 0.9943 - val_loss: 0.3593 - val_accuracy: 0.9205\n",
      "Epoch 14/15\n",
      "352/352 [==============================] - 2s 5ms/step - loss: 0.0291 - accuracy: 0.9893 - val_loss: 0.4022 - val_accuracy: 0.9176\n",
      "Epoch 15/15\n",
      "352/352 [==============================] - 2s 5ms/step - loss: 0.0358 - accuracy: 0.9872 - val_loss: 0.3239 - val_accuracy: 0.9148\n"
     ]
    }
   ],
   "source": [
    "cnn_1 = model.fit(X_train, y_train, batch_size=batch_size, epochs=num_epoch, verbose=1, validation_data=(X_test, y_test))"
   ]
  },
  {
   "cell_type": "code",
   "execution_count": 22,
   "metadata": {},
   "outputs": [],
   "source": [
    "import tensorflow as tf"
   ]
  },
  {
   "cell_type": "code",
   "execution_count": 23,
   "metadata": {},
   "outputs": [
    {
     "data": {
      "image/png": "[encoded data removed]",
      "text/plain": [
       "<IPython.core.display.Image object>"
      ]
     },
     "execution_count": 23,
     "metadata": {},
     "output_type": "execute_result"
    }
   ],
   "source": [
    "tf.keras.utils.plot_model(\n",
    "    model, to_file='model.png', show_shapes=False, show_layer_names=True,\n",
    "    rankdir='TB', expand_nested=False, dpi=96\n",
    ")"
   ]
  }
 ],
 "metadata": {
  "kernelspec": {
   "display_name": "Python 3",
   "language": "python",
   "name": "python3"
  },
  "language_info": {
   "codemirror_mode": {
    "name": "ipython",
    "version": 3
   },
   "file_extension": ".py",
   "mimetype": "text/x-python",
   "name": "python",
   "nbconvert_exporter": "python",
   "pygments_lexer": "ipython3",
   "version": "3.6.6"
  }
 },
 "nbformat": 4,
 "nbformat_minor": 4
}
